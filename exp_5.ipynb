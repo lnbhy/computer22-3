{
 "cells": [
  {
   "cell_type": "markdown",
   "metadata": {
    "collapsed": false
   },
   "source": [
    "## 使用信息熵寻找最优划分"
   ]
  },
  {
   "cell_type": "code",
   "execution_count": 21,
   "metadata": {
    "collapsed": false
   },
   "outputs": [],
   "source": [
    "import numpy as np\n",
    "import matplotlib.pyplot as plt"
   ]
  },
  {
   "cell_type": "code",
   "execution_count": 22,
   "metadata": {
    "collapsed": false
   },
   "outputs": [],
   "source": [
    "from sklearn import datasets\n",
    "\n",
    "iris =datasets.load_iris()\n",
    "x=iris.data[:,2:]\n",
    "y=iris.target"
   ]
  },
  {
   "cell_type": "code",
   "execution_count": 23,
   "metadata": {
    "collapsed": false
   },
   "outputs": [
    {
     "data": {
      "text/plain": [
       "DecisionTreeClassifier(ccp_alpha=0.0, class_weight=None, criterion='entropy',\n",
       "                       max_depth=3, max_features=None, max_leaf_nodes=None,\n",
       "                       min_impurity_decrease=0.0, min_impurity_split=None,\n",
       "                       min_samples_leaf=1, min_samples_split=2,\n",
       "                       min_weight_fraction_leaf=0.0, presort='deprecated',\n",
       "                       random_state=None, splitter='best')"
      ]
     },
     "execution_count": 23,
     "metadata": {},
     "output_type": "execute_result"
    }
   ],
   "source": [
    "from sklearn.tree import DecisionTreeClassifier\n",
    "\n",
    "dt_clf =DecisionTreeClassifier(max_depth=3,criterion=\"entropy\")\n",
    "dt_clf.fit(x,y)"
   ]
  },
  {
   "cell_type": "code",
   "execution_count": 24,
   "metadata": {
    "collapsed": false
   },
   "outputs": [],
   "source": [
    "def plot_decision_boundary(model, axis):  \n",
    "    # meshgrid函数用两个坐标轴上的点在平面上画格，返回坐标矩阵\n",
    "    x0, x1 = np.meshgrid(\n",
    "    # 随机两组数，起始值和密度由坐标轴的起始值决定\n",
    "    np.linspace(axis[0], axis[1], int((axis[1] - axis[0]) * 100)).reshape(-1, 1),\n",
    "    np.linspace(axis[2], axis[3], int((axis[3] - axis[2]) * 100)).reshape(-1, 1),\n",
    "    )\n",
    "    \n",
    "    # ravel()方法将高维数组降为一维数组，c_[]将两个数组以列的形式拼接起来，形成矩阵\n",
    "    x_new=np.c_[x0.ravel(),x1.ravel()]\n",
    "    \n",
    "    # 通过训练好的逻辑回归模型，预测平面上这些点的分类\n",
    "    y_predict = model.predict(x_new)\n",
    "    \n",
    "    zz=y_predict.reshape(x0.shape)\n",
    "    \n",
    "    # 设置色彩表\n",
    "    from matplotlib.colors import ListedColormap\n",
    "    custom_cmap = ListedColormap (['#EF9A9A','#FFF59D','#90CAF9'])\n",
    "    \n",
    "    # 绘制等高线，并且填充等高区域的颜色\n",
    "    plt.contourf(x0,x1,zz,linewidth=5,cmap=custom_cmap) \n",
    "    "
   ]
  },
  {
   "cell_type": "code",
   "execution_count": 25,
   "metadata": {
    "collapsed": false
   },
   "outputs": [
    {
     "name": "stderr",
     "output_type": "stream",
     "text": [
      "/opt/conda/envs/python35-paddle120-env/lib/python3.7/site-packages/matplotlib/contour.py:1004: UserWarning: The following kwargs were not used by contour: 'linewidth'\n",
      "  s)\n"
     ]
    },
    {
     "data": {
      "image/png": "[encoded data removed]",
      "text/plain": [
       "<Figure size 640x480 with 1 Axes>"
      ]
     },
     "metadata": {},
     "output_type": "display_data"
    }
   ],
   "source": [
    "# 绘制决策边界\n",
    "plot_decision_boundary(dt_clf, axis=[0, 7, 0, 3])\n",
    "plt.scatter(x[y==0, 0], x[y==0, 1])\n",
    "plt.scatter(x[y==1, 0], x[y==1, 1])\n",
    "plt.scatter(x[y==2, 0], x[y==2, 1])\n",
    "plt.show()"
   ]
  },
  {
   "cell_type": "markdown",
   "metadata": {
    "collapsed": false
   },
   "source": [
    "# **可视化决策树**"
   ]
  },
  {
   "cell_type": "code",
   "execution_count": 26,
   "metadata": {
    "collapsed": false
   },
   "outputs": [
    {
     "data": {
      "image/svg+xml": [
       "<?xml version=\"1.0\" encoding=\"UTF-8\" standalone=\"no\"?>\n",
       "<!DOCTYPE svg PUBLIC \"-//W3C//DTD SVG 1.1//EN\"\n",
       " \"http://www.w3.org/Graphics/SVG/1.1/DTD/svg11.dtd\">\n",
       "<!-- Generated by graphviz version 2.38.0 (20140413.2041)\n",
       " -->\n",
       "<!-- Title: Tree Pages: 1 -->\n",
       "<svg width=\"504pt\" height=\"373pt\"\n",
       " viewBox=\"0.00 0.00 504.00 373.00\" xmlns=\"http://www.w3.org/2000/svg\" xmlns:xlink=\"http://www.w3.org/1999/xlink\">\n",
       "<g id=\"graph0\" class=\"graph\" transform=\"scale(1 1) rotate(0) translate(4 369)\">\n",
       "<title>Tree</title>\n",
       "<polygon fill=\"white\" stroke=\"none\" points=\"-4,4 -4,-369 500,-369 500,4 -4,4\"/>\n",
       "<!-- 0 -->\n",
       "<g id=\"node1\" class=\"node\"><title>0</title>\n",
       "<polygon fill=\"none\" stroke=\"black\" points=\"244.5,-365 118.5,-365 118.5,-297 244.5,-297 244.5,-365\"/>\n",
       "<text text-anchor=\"middle\" x=\"181.5\" y=\"-349.8\" font-family=\"Times,serif\" font-size=\"14.00\">X[1] &lt;= 0.8</text>\n",
       "<text text-anchor=\"middle\" x=\"181.5\" y=\"-334.8\" font-family=\"Times,serif\" font-size=\"14.00\">entropy = 1.585</text>\n",
       "<text text-anchor=\"middle\" x=\"181.5\" y=\"-319.8\" font-family=\"Times,serif\" font-size=\"14.00\">samples = 150</text>\n",
       "<text text-anchor=\"middle\" x=\"181.5\" y=\"-304.8\" font-family=\"Times,serif\" font-size=\"14.00\">value = [50, 50, 50]</text>\n",
       "</g>\n",
       "<!-- 1 -->\n",
       "<g id=\"node2\" class=\"node\"><title>1</title>\n",
       "<polygon fill=\"none\" stroke=\"black\" points=\"171,-253.5 58,-253.5 58,-200.5 171,-200.5 171,-253.5\"/>\n",
       "<text text-anchor=\"middle\" x=\"114.5\" y=\"-238.3\" font-family=\"Times,serif\" font-size=\"14.00\">entropy = 0.0</text>\n",
       "<text text-anchor=\"middle\" x=\"114.5\" y=\"-223.3\" font-family=\"Times,serif\" font-size=\"14.00\">samples = 50</text>\n",
       "<text text-anchor=\"middle\" x=\"114.5\" y=\"-208.3\" font-family=\"Times,serif\" font-size=\"14.00\">value = [50, 0, 0]</text>\n",
       "</g>\n",
       "<!-- 0&#45;&gt;1 -->\n",
       "<g id=\"edge1\" class=\"edge\"><title>0&#45;&gt;1</title>\n",
       "<path fill=\"none\" stroke=\"black\" d=\"M159.747,-296.884C152.451,-285.776 144.303,-273.372 136.954,-262.184\"/>\n",
       "<polygon fill=\"black\" stroke=\"black\" points=\"139.679,-259.957 131.263,-253.52 133.828,-263.8 139.679,-259.957\"/>\n",
       "<text text-anchor=\"middle\" x=\"126.193\" y=\"-274.3\" font-family=\"Times,serif\" font-size=\"14.00\">True</text>\n",
       "</g>\n",
       "<!-- 2 -->\n",
       "<g id=\"node3\" class=\"node\"><title>2</title>\n",
       "<polygon fill=\"none\" stroke=\"black\" points=\"308,-261 189,-261 189,-193 308,-193 308,-261\"/>\n",
       "<text text-anchor=\"middle\" x=\"248.5\" y=\"-245.8\" font-family=\"Times,serif\" font-size=\"14.00\">X[1] &lt;= 1.75</text>\n",
       "<text text-anchor=\"middle\" x=\"248.5\" y=\"-230.8\" font-family=\"Times,serif\" font-size=\"14.00\">entropy = 1.0</text>\n",
       "<text text-anchor=\"middle\" x=\"248.5\" y=\"-215.8\" font-family=\"Times,serif\" font-size=\"14.00\">samples = 100</text>\n",
       "<text text-anchor=\"middle\" x=\"248.5\" y=\"-200.8\" font-family=\"Times,serif\" font-size=\"14.00\">value = [0, 50, 50]</text>\n",
       "</g>\n",
       "<!-- 0&#45;&gt;2 -->\n",
       "<g id=\"edge2\" class=\"edge\"><title>0&#45;&gt;2</title>\n",
       "<path fill=\"none\" stroke=\"black\" d=\"M203.253,-296.884C208.928,-288.243 215.119,-278.819 221.048,-269.793\"/>\n",
       "<polygon fill=\"black\" stroke=\"black\" points=\"224.062,-271.579 226.627,-261.299 218.211,-267.736 224.062,-271.579\"/>\n",
       "<text text-anchor=\"middle\" x=\"231.697\" y=\"-282.08\" font-family=\"Times,serif\" font-size=\"14.00\">False</text>\n",
       "</g>\n",
       "<!-- 3 -->\n",
       "<g id=\"node4\" class=\"node\"><title>3</title>\n",
       "<polygon fill=\"none\" stroke=\"black\" points=\"239,-157 126,-157 126,-89 239,-89 239,-157\"/>\n",
       "<text text-anchor=\"middle\" x=\"182.5\" y=\"-141.8\" font-family=\"Times,serif\" font-size=\"14.00\">X[0] &lt;= 4.95</text>\n",
       "<text text-anchor=\"middle\" x=\"182.5\" y=\"-126.8\" font-family=\"Times,serif\" font-size=\"14.00\">entropy = 0.445</text>\n",
       "<text text-anchor=\"middle\" x=\"182.5\" y=\"-111.8\" font-family=\"Times,serif\" font-size=\"14.00\">samples = 54</text>\n",
       "<text text-anchor=\"middle\" x=\"182.5\" y=\"-96.8\" font-family=\"Times,serif\" font-size=\"14.00\">value = [0, 49, 5]</text>\n",
       "</g>\n",
       "<!-- 2&#45;&gt;3 -->\n",
       "<g id=\"edge3\" class=\"edge\"><title>2&#45;&gt;3</title>\n",
       "<path fill=\"none\" stroke=\"black\" d=\"M227.072,-192.884C221.481,-184.243 215.383,-174.819 209.542,-165.793\"/>\n",
       "<polygon fill=\"black\" stroke=\"black\" points=\"212.418,-163.794 204.047,-157.299 206.541,-167.596 212.418,-163.794\"/>\n",
       "</g>\n",
       "<!-- 6 -->\n",
       "<g id=\"node7\" class=\"node\"><title>6</title>\n",
       "<polygon fill=\"none\" stroke=\"black\" points=\"370,-157 257,-157 257,-89 370,-89 370,-157\"/>\n",
       "<text text-anchor=\"middle\" x=\"313.5\" y=\"-141.8\" font-family=\"Times,serif\" font-size=\"14.00\">X[0] &lt;= 4.85</text>\n",
       "<text text-anchor=\"middle\" x=\"313.5\" y=\"-126.8\" font-family=\"Times,serif\" font-size=\"14.00\">entropy = 0.151</text>\n",
       "<text text-anchor=\"middle\" x=\"313.5\" y=\"-111.8\" font-family=\"Times,serif\" font-size=\"14.00\">samples = 46</text>\n",
       "<text text-anchor=\"middle\" x=\"313.5\" y=\"-96.8\" font-family=\"Times,serif\" font-size=\"14.00\">value = [0, 1, 45]</text>\n",
       "</g>\n",
       "<!-- 2&#45;&gt;6 -->\n",
       "<g id=\"edge6\" class=\"edge\"><title>2&#45;&gt;6</title>\n",
       "<path fill=\"none\" stroke=\"black\" d=\"M269.604,-192.884C275.11,-184.243 281.115,-174.819 286.867,-165.793\"/>\n",
       "<polygon fill=\"black\" stroke=\"black\" points=\"289.857,-167.614 292.28,-157.299 283.954,-163.852 289.857,-167.614\"/>\n",
       "</g>\n",
       "<!-- 4 -->\n",
       "<g id=\"node5\" class=\"node\"><title>4</title>\n",
       "<polygon fill=\"none\" stroke=\"black\" points=\"113,-53 0,-53 0,-0 113,-0 113,-53\"/>\n",
       "<text text-anchor=\"middle\" x=\"56.5\" y=\"-37.8\" font-family=\"Times,serif\" font-size=\"14.00\">entropy = 0.146</text>\n",
       "<text text-anchor=\"middle\" x=\"56.5\" y=\"-22.8\" font-family=\"Times,serif\" font-size=\"14.00\">samples = 48</text>\n",
       "<text text-anchor=\"middle\" x=\"56.5\" y=\"-7.8\" font-family=\"Times,serif\" font-size=\"14.00\">value = [0, 47, 1]</text>\n",
       "</g>\n",
       "<!-- 3&#45;&gt;4 -->\n",
       "<g id=\"edge4\" class=\"edge\"><title>3&#45;&gt;4</title>\n",
       "<path fill=\"none\" stroke=\"black\" d=\"M138.431,-88.9485C125.624,-79.3431 111.666,-68.8747 98.96,-59.345\"/>\n",
       "<polygon fill=\"black\" stroke=\"black\" points=\"100.916,-56.4367 90.8156,-53.2367 96.7156,-62.0368 100.916,-56.4367\"/>\n",
       "</g>\n",
       "<!-- 5 -->\n",
       "<g id=\"node6\" class=\"node\"><title>5</title>\n",
       "<polygon fill=\"none\" stroke=\"black\" points=\"237.5,-53 131.5,-53 131.5,-0 237.5,-0 237.5,-53\"/>\n",
       "<text text-anchor=\"middle\" x=\"184.5\" y=\"-37.8\" font-family=\"Times,serif\" font-size=\"14.00\">entropy = 0.918</text>\n",
       "<text text-anchor=\"middle\" x=\"184.5\" y=\"-22.8\" font-family=\"Times,serif\" font-size=\"14.00\">samples = 6</text>\n",
       "<text text-anchor=\"middle\" x=\"184.5\" y=\"-7.8\" font-family=\"Times,serif\" font-size=\"14.00\">value = [0, 2, 4]</text>\n",
       "</g>\n",
       "<!-- 3&#45;&gt;5 -->\n",
       "<g id=\"edge5\" class=\"edge\"><title>3&#45;&gt;5</title>\n",
       "<path fill=\"none\" stroke=\"black\" d=\"M183.2,-88.9485C183.374,-80.7153 183.561,-71.848 183.738,-63.4814\"/>\n",
       "<polygon fill=\"black\" stroke=\"black\" points=\"187.243,-63.3086 183.955,-53.2367 180.244,-63.1604 187.243,-63.3086\"/>\n",
       "</g>\n",
       "<!-- 7 -->\n",
       "<g id=\"node8\" class=\"node\"><title>7</title>\n",
       "<polygon fill=\"none\" stroke=\"black\" points=\"364.5,-53 258.5,-53 258.5,-0 364.5,-0 364.5,-53\"/>\n",
       "<text text-anchor=\"middle\" x=\"311.5\" y=\"-37.8\" font-family=\"Times,serif\" font-size=\"14.00\">entropy = 0.918</text>\n",
       "<text text-anchor=\"middle\" x=\"311.5\" y=\"-22.8\" font-family=\"Times,serif\" font-size=\"14.00\">samples = 3</text>\n",
       "<text text-anchor=\"middle\" x=\"311.5\" y=\"-7.8\" font-family=\"Times,serif\" font-size=\"14.00\">value = [0, 1, 2]</text>\n",
       "</g>\n",
       "<!-- 6&#45;&gt;7 -->\n",
       "<g id=\"edge7\" class=\"edge\"><title>6&#45;&gt;7</title>\n",
       "<path fill=\"none\" stroke=\"black\" d=\"M312.8,-88.9485C312.626,-80.7153 312.439,-71.848 312.262,-63.4814\"/>\n",
       "<polygon fill=\"black\" stroke=\"black\" points=\"315.756,-63.1604 312.045,-53.2367 308.757,-63.3086 315.756,-63.1604\"/>\n",
       "</g>\n",
       "<!-- 8 -->\n",
       "<g id=\"node9\" class=\"node\"><title>8</title>\n",
       "<polygon fill=\"none\" stroke=\"black\" points=\"496,-53 383,-53 383,-0 496,-0 496,-53\"/>\n",
       "<text text-anchor=\"middle\" x=\"439.5\" y=\"-37.8\" font-family=\"Times,serif\" font-size=\"14.00\">entropy = 0.0</text>\n",
       "<text text-anchor=\"middle\" x=\"439.5\" y=\"-22.8\" font-family=\"Times,serif\" font-size=\"14.00\">samples = 43</text>\n",
       "<text text-anchor=\"middle\" x=\"439.5\" y=\"-7.8\" font-family=\"Times,serif\" font-size=\"14.00\">value = [0, 0, 43]</text>\n",
       "</g>\n",
       "<!-- 6&#45;&gt;8 -->\n",
       "<g id=\"edge8\" class=\"edge\"><title>6&#45;&gt;8</title>\n",
       "<path fill=\"none\" stroke=\"black\" d=\"M357.569,-88.9485C370.376,-79.3431 384.334,-68.8747 397.04,-59.345\"/>\n",
       "<polygon fill=\"black\" stroke=\"black\" points=\"399.284,-62.0368 405.184,-53.2367 395.084,-56.4367 399.284,-62.0368\"/>\n",
       "</g>\n",
       "</g>\n",
       "</svg>\n"
      ],
      "text/plain": [
       "<graphviz.files.Source at 0x7f7179159b50>"
      ]
     },
     "metadata": {},
     "output_type": "display_data"
    }
   ],
   "source": [
    "from sklearn.tree import export_graphviz\r\n",
    "### 可视化决策树\r\n",
    "export_graphviz(dt_clf,out_file=\"my_iris_tree.dot\")\r\n",
    "import graphviz\r\n",
    "with open(\"my_iris_tree.dot\") as f:\r\n",
    "    dot_graph = f.read()\r\n",
    "display(graphviz.Source(dot_graph))\r\n"
   ]
  },
  {
   "cell_type": "markdown",
   "metadata": {
    "collapsed": false
   },
   "source": [
    "## 基尼系数"
   ]
  },
  {
   "cell_type": "code",
   "execution_count": 27,
   "metadata": {
    "collapsed": false
   },
   "outputs": [],
   "source": [
    "import numpy as np\n",
    "import matplotlib.pyplot as plt"
   ]
  },
  {
   "cell_type": "code",
   "execution_count": 28,
   "metadata": {
    "collapsed": false
   },
   "outputs": [],
   "source": [
    "from sklearn import datasets\n",
    "\n",
    "\n",
    "iris =datasets.load_iris()\n",
    "x=iris.data[:,2:]\n",
    "y=iris.target"
   ]
  },
  {
   "cell_type": "code",
   "execution_count": 29,
   "metadata": {
    "collapsed": false
   },
   "outputs": [
    {
     "data": {
      "text/plain": [
       "DecisionTreeClassifier(ccp_alpha=0.0, class_weight=None, criterion='gini',\n",
       "                       max_depth=2, max_features=None, max_leaf_nodes=None,\n",
       "                       min_impurity_decrease=0.0, min_impurity_split=None,\n",
       "                       min_samples_leaf=1, min_samples_split=2,\n",
       "                       min_weight_fraction_leaf=0.0, presort='deprecated',\n",
       "                       random_state=None, splitter='best')"
      ]
     },
     "execution_count": 29,
     "metadata": {},
     "output_type": "execute_result"
    }
   ],
   "source": [
    "from sklearn.tree import DecisionTreeClassifier\n",
    "\n",
    "dt_clf =DecisionTreeClassifier(max_depth=2,criterion=\"gini\")\n",
    "dt_clf.fit(x,y)"
   ]
  },
  {
   "cell_type": "code",
   "execution_count": 30,
   "metadata": {
    "collapsed": false
   },
   "outputs": [],
   "source": [
    "def plot_decision_boundary(model, axis):  \n",
    "    # meshgrid函数用两个坐标轴上的点在平面上画格，返回坐标矩阵\n",
    "    x0, x1 = np.meshgrid(\n",
    "    # 随机两组数，起始值和密度由坐标轴的起始值决定\n",
    "    np.linspace(axis[0], axis[1], int((axis[1] - axis[0]) * 100)).reshape(-1, 1),\n",
    "    np.linspace(axis[2], axis[3], int((axis[3] - axis[2]) * 100)).reshape(-1, 1),\n",
    "    )\n",
    "    \n",
    "    # ravel()方法将高维数组降为一维数组，c_[]将两个数组以列的形式拼接起来，形成矩阵\n",
    "    x_new=np.c_[x0.ravel(),x1.ravel()]\n",
    "    \n",
    "    # 通过训练好的逻辑回归模型，预测平面上这些点的分类\n",
    "    y_predict = model.predict(x_new)\n",
    "    \n",
    "    zz=y_predict.reshape(x0.shape)\n",
    "    \n",
    "    # 设置色彩表\n",
    "    from matplotlib.colors import ListedColormap\n",
    "    custom_cmap = ListedColormap (['#EF9A9A','#FFF59D','#90CAF9'])\n",
    "    \n",
    "    # 绘制等高线，并且填充等高区域的颜色\n",
    "    plt.contourf(x0,x1,zz,linewidth=5,cmap=custom_cmap) "
   ]
  },
  {
   "cell_type": "code",
   "execution_count": 31,
   "metadata": {
    "collapsed": false
   },
   "outputs": [
    {
     "name": "stderr",
     "output_type": "stream",
     "text": [
      "/opt/conda/envs/python35-paddle120-env/lib/python3.7/site-packages/matplotlib/contour.py:1004: UserWarning: The following kwargs were not used by contour: 'linewidth'\n",
      "  s)\n"
     ]
    },
    {
     "data": {
      "image/png": "[encoded data removed]",
      "text/plain": [
       "<Figure size 640x480 with 1 Axes>"
      ]
     },
     "metadata": {},
     "output_type": "display_data"
    }
   ],
   "source": [
    "# 绘制决策边界\n",
    "plot_decision_boundary(dt_clf, axis=[0.5, 7.5, 0, 3])\n",
    "plt.scatter(x[y==0, 0], x[y==0, 1])\n",
    "plt.scatter(x[y==1, 0], x[y==1, 1])\n",
    "plt.scatter(x[y==2, 0], x[y==2, 1])\n",
    "plt.show()"
   ]
  },
  {
   "cell_type": "markdown",
   "metadata": {
    "collapsed": false
   },
   "source": [
    "## 模拟使用基尼系数波士顿"
   ]
  },
  {
   "cell_type": "code",
   "execution_count": 32,
   "metadata": {
    "collapsed": false
   },
   "outputs": [],
   "source": [
    "import numpy as np\r\n",
    "import matplotlib.pyplot as plt"
   ]
  },
  {
   "cell_type": "code",
   "execution_count": 33,
   "metadata": {
    "collapsed": false
   },
   "outputs": [],
   "source": [
    "from sklearn import datasets\r\n",
    "boston =datasets.load_boston()\r\n",
    "x=boston.data\r\n",
    "y=boston.target"
   ]
  },
  {
   "cell_type": "code",
   "execution_count": 34,
   "metadata": {
    "collapsed": false
   },
   "outputs": [],
   "source": [
    "from sklearn.model_selection import train_test_split\r\n",
    "x_train,x_test,y_train,y_test = train_test_split(x,y,random_state=2,test_size=0.2)"
   ]
  },
  {
   "cell_type": "code",
   "execution_count": 35,
   "metadata": {
    "collapsed": false
   },
   "outputs": [
    {
     "data": {
      "text/plain": [
       "DecisionTreeRegressor(ccp_alpha=0.0, criterion='mse', max_depth=3,\n",
       "                      max_features=None, max_leaf_nodes=None,\n",
       "                      min_impurity_decrease=0.0, min_impurity_split=None,\n",
       "                      min_samples_leaf=1, min_samples_split=2,\n",
       "                      min_weight_fraction_leaf=0.0, presort='deprecated',\n",
       "                      random_state=None, splitter='best')"
      ]
     },
     "execution_count": 35,
     "metadata": {},
     "output_type": "execute_result"
    }
   ],
   "source": [
    "from sklearn.tree import DecisionTreeRegressor\n",
    "dt_reg = DecisionTreeRegressor(max_depth=3)\n",
    "dt_reg.fit(x_train,y_train)"
   ]
  },
  {
   "cell_type": "code",
   "execution_count": 36,
   "metadata": {
    "collapsed": false
   },
   "outputs": [
    {
     "data": {
      "image/svg+xml": [
       "<?xml version=\"1.0\" encoding=\"UTF-8\" standalone=\"no\"?>\n",
       "<!DOCTYPE svg PUBLIC \"-//W3C//DTD SVG 1.1//EN\"\n",
       " \"http://www.w3.org/Graphics/SVG/1.1/DTD/svg11.dtd\">\n",
       "<!-- Generated by graphviz version 2.38.0 (20140413.2041)\n",
       " -->\n",
       "<!-- Title: Tree Pages: 1 -->\n",
       "<svg width=\"902pt\" height=\"373pt\"\n",
       " viewBox=\"0.00 0.00 901.50 373.00\" xmlns=\"http://www.w3.org/2000/svg\" xmlns:xlink=\"http://www.w3.org/1999/xlink\">\n",
       "<g id=\"graph0\" class=\"graph\" transform=\"scale(1 1) rotate(0) translate(4 369)\">\n",
       "<title>Tree</title>\n",
       "<polygon fill=\"white\" stroke=\"none\" points=\"-4,4 -4,-369 897.5,-369 897.5,4 -4,4\"/>\n",
       "<!-- 0 -->\n",
       "<g id=\"node1\" class=\"node\"><title>0</title>\n",
       "<polygon fill=\"none\" stroke=\"black\" points=\"486,-365 382,-365 382,-297 486,-297 486,-365\"/>\n",
       "<text text-anchor=\"middle\" x=\"434\" y=\"-349.8\" font-family=\"Times,serif\" font-size=\"14.00\">X[12] &lt;= 9.725</text>\n",
       "<text text-anchor=\"middle\" x=\"434\" y=\"-334.8\" font-family=\"Times,serif\" font-size=\"14.00\">mse = 84.57</text>\n",
       "<text text-anchor=\"middle\" x=\"434\" y=\"-319.8\" font-family=\"Times,serif\" font-size=\"14.00\">samples = 404</text>\n",
       "<text text-anchor=\"middle\" x=\"434\" y=\"-304.8\" font-family=\"Times,serif\" font-size=\"14.00\">value = 22.441</text>\n",
       "</g>\n",
       "<!-- 1 -->\n",
       "<g id=\"node2\" class=\"node\"><title>1</title>\n",
       "<polygon fill=\"none\" stroke=\"black\" points=\"399.5,-261 300.5,-261 300.5,-193 399.5,-193 399.5,-261\"/>\n",
       "<text text-anchor=\"middle\" x=\"350\" y=\"-245.8\" font-family=\"Times,serif\" font-size=\"14.00\">X[5] &lt;= 7.47</text>\n",
       "<text text-anchor=\"middle\" x=\"350\" y=\"-230.8\" font-family=\"Times,serif\" font-size=\"14.00\">mse = 83.234</text>\n",
       "<text text-anchor=\"middle\" x=\"350\" y=\"-215.8\" font-family=\"Times,serif\" font-size=\"14.00\">samples = 167</text>\n",
       "<text text-anchor=\"middle\" x=\"350\" y=\"-200.8\" font-family=\"Times,serif\" font-size=\"14.00\">value = 29.675</text>\n",
       "</g>\n",
       "<!-- 0&#45;&gt;1 -->\n",
       "<g id=\"edge1\" class=\"edge\"><title>0&#45;&gt;1</title>\n",
       "<path fill=\"none\" stroke=\"black\" d=\"M406.728,-296.884C399.465,-288.065 391.531,-278.43 383.958,-269.235\"/>\n",
       "<polygon fill=\"black\" stroke=\"black\" points=\"386.482,-266.794 377.423,-261.299 381.078,-271.244 386.482,-266.794\"/>\n",
       "<text text-anchor=\"middle\" x=\"375.015\" y=\"-282.483\" font-family=\"Times,serif\" font-size=\"14.00\">True</text>\n",
       "</g>\n",
       "<!-- 8 -->\n",
       "<g id=\"node9\" class=\"node\"><title>8</title>\n",
       "<polygon fill=\"none\" stroke=\"black\" points=\"568.5,-261 469.5,-261 469.5,-193 568.5,-193 568.5,-261\"/>\n",
       "<text text-anchor=\"middle\" x=\"519\" y=\"-245.8\" font-family=\"Times,serif\" font-size=\"14.00\">X[0] &lt;= 5.782</text>\n",
       "<text text-anchor=\"middle\" x=\"519\" y=\"-230.8\" font-family=\"Times,serif\" font-size=\"14.00\">mse = 22.662</text>\n",
       "<text text-anchor=\"middle\" x=\"519\" y=\"-215.8\" font-family=\"Times,serif\" font-size=\"14.00\">samples = 237</text>\n",
       "<text text-anchor=\"middle\" x=\"519\" y=\"-200.8\" font-family=\"Times,serif\" font-size=\"14.00\">value = 17.344</text>\n",
       "</g>\n",
       "<!-- 0&#45;&gt;8 -->\n",
       "<g id=\"edge8\" class=\"edge\"><title>0&#45;&gt;8</title>\n",
       "<path fill=\"none\" stroke=\"black\" d=\"M461.597,-296.884C468.946,-288.065 476.975,-278.43 484.637,-269.235\"/>\n",
       "<polygon fill=\"black\" stroke=\"black\" points=\"487.537,-271.222 491.251,-261.299 482.16,-266.741 487.537,-271.222\"/>\n",
       "<text text-anchor=\"middle\" x=\"493.514\" y=\"-282.497\" font-family=\"Times,serif\" font-size=\"14.00\">False</text>\n",
       "</g>\n",
       "<!-- 2 -->\n",
       "<g id=\"node3\" class=\"node\"><title>2</title>\n",
       "<polygon fill=\"none\" stroke=\"black\" points=\"203.5,-157 104.5,-157 104.5,-89 203.5,-89 203.5,-157\"/>\n",
       "<text text-anchor=\"middle\" x=\"154\" y=\"-141.8\" font-family=\"Times,serif\" font-size=\"14.00\">X[7] &lt;= 1.485</text>\n",
       "<text text-anchor=\"middle\" x=\"154\" y=\"-126.8\" font-family=\"Times,serif\" font-size=\"14.00\">mse = 43.52</text>\n",
       "<text text-anchor=\"middle\" x=\"154\" y=\"-111.8\" font-family=\"Times,serif\" font-size=\"14.00\">samples = 143</text>\n",
       "<text text-anchor=\"middle\" x=\"154\" y=\"-96.8\" font-family=\"Times,serif\" font-size=\"14.00\">value = 27.085</text>\n",
       "</g>\n",
       "<!-- 1&#45;&gt;2 -->\n",
       "<g id=\"edge2\" class=\"edge\"><title>1&#45;&gt;2</title>\n",
       "<path fill=\"none\" stroke=\"black\" d=\"M300.288,-200.129C273.578,-186.229 240.488,-169.009 212.539,-154.464\"/>\n",
       "<polygon fill=\"black\" stroke=\"black\" points=\"214.146,-151.355 203.659,-149.843 210.914,-157.564 214.146,-151.355\"/>\n",
       "</g>\n",
       "<!-- 5 -->\n",
       "<g id=\"node6\" class=\"node\"><title>5</title>\n",
       "<polygon fill=\"none\" stroke=\"black\" points=\"408.5,-157 291.5,-157 291.5,-89 408.5,-89 408.5,-157\"/>\n",
       "<text text-anchor=\"middle\" x=\"350\" y=\"-141.8\" font-family=\"Times,serif\" font-size=\"14.00\">X[11] &lt;= 361.925</text>\n",
       "<text text-anchor=\"middle\" x=\"350\" y=\"-126.8\" font-family=\"Times,serif\" font-size=\"14.00\">mse = 41.696</text>\n",
       "<text text-anchor=\"middle\" x=\"350\" y=\"-111.8\" font-family=\"Times,serif\" font-size=\"14.00\">samples = 24</text>\n",
       "<text text-anchor=\"middle\" x=\"350\" y=\"-96.8\" font-family=\"Times,serif\" font-size=\"14.00\">value = 45.108</text>\n",
       "</g>\n",
       "<!-- 1&#45;&gt;5 -->\n",
       "<g id=\"edge5\" class=\"edge\"><title>1&#45;&gt;5</title>\n",
       "<path fill=\"none\" stroke=\"black\" d=\"M350,-192.884C350,-184.778 350,-175.982 350,-167.472\"/>\n",
       "<polygon fill=\"black\" stroke=\"black\" points=\"353.5,-167.299 350,-157.299 346.5,-167.299 353.5,-167.299\"/>\n",
       "</g>\n",
       "<!-- 3 -->\n",
       "<g id=\"node4\" class=\"node\"><title>3</title>\n",
       "<polygon fill=\"none\" stroke=\"black\" points=\"86,-53 0,-53 0,-0 86,-0 86,-53\"/>\n",
       "<text text-anchor=\"middle\" x=\"43\" y=\"-37.8\" font-family=\"Times,serif\" font-size=\"14.00\">mse = 0.0</text>\n",
       "<text text-anchor=\"middle\" x=\"43\" y=\"-22.8\" font-family=\"Times,serif\" font-size=\"14.00\">samples = 5</text>\n",
       "<text text-anchor=\"middle\" x=\"43\" y=\"-7.8\" font-family=\"Times,serif\" font-size=\"14.00\">value = 50.0</text>\n",
       "</g>\n",
       "<!-- 2&#45;&gt;3 -->\n",
       "<g id=\"edge3\" class=\"edge\"><title>2&#45;&gt;3</title>\n",
       "<path fill=\"none\" stroke=\"black\" d=\"M115.178,-88.9485C104.11,-79.526 92.0669,-69.2731 81.046,-59.8906\"/>\n",
       "<polygon fill=\"black\" stroke=\"black\" points=\"83.1136,-57.0542 73.2304,-53.2367 78.5759,-62.3842 83.1136,-57.0542\"/>\n",
       "</g>\n",
       "<!-- 4 -->\n",
       "<g id=\"node5\" class=\"node\"><title>4</title>\n",
       "<polygon fill=\"none\" stroke=\"black\" points=\"203.5,-53 104.5,-53 104.5,-0 203.5,-0 203.5,-53\"/>\n",
       "<text text-anchor=\"middle\" x=\"154\" y=\"-37.8\" font-family=\"Times,serif\" font-size=\"14.00\">mse = 25.381</text>\n",
       "<text text-anchor=\"middle\" x=\"154\" y=\"-22.8\" font-family=\"Times,serif\" font-size=\"14.00\">samples = 138</text>\n",
       "<text text-anchor=\"middle\" x=\"154\" y=\"-7.8\" font-family=\"Times,serif\" font-size=\"14.00\">value = 26.254</text>\n",
       "</g>\n",
       "<!-- 2&#45;&gt;4 -->\n",
       "<g id=\"edge4\" class=\"edge\"><title>2&#45;&gt;4</title>\n",
       "<path fill=\"none\" stroke=\"black\" d=\"M154,-88.9485C154,-80.7153 154,-71.848 154,-63.4814\"/>\n",
       "<polygon fill=\"black\" stroke=\"black\" points=\"157.5,-63.2367 154,-53.2367 150.5,-63.2367 157.5,-63.2367\"/>\n",
       "</g>\n",
       "<!-- 6 -->\n",
       "<g id=\"node7\" class=\"node\"><title>6</title>\n",
       "<polygon fill=\"none\" stroke=\"black\" points=\"308,-53 222,-53 222,-0 308,-0 308,-53\"/>\n",
       "<text text-anchor=\"middle\" x=\"265\" y=\"-37.8\" font-family=\"Times,serif\" font-size=\"14.00\">mse = 0.0</text>\n",
       "<text text-anchor=\"middle\" x=\"265\" y=\"-22.8\" font-family=\"Times,serif\" font-size=\"14.00\">samples = 1</text>\n",
       "<text text-anchor=\"middle\" x=\"265\" y=\"-7.8\" font-family=\"Times,serif\" font-size=\"14.00\">value = 21.9</text>\n",
       "</g>\n",
       "<!-- 5&#45;&gt;6 -->\n",
       "<g id=\"edge6\" class=\"edge\"><title>5&#45;&gt;6</title>\n",
       "<path fill=\"none\" stroke=\"black\" d=\"M320.271,-88.9485C312.043,-79.8005 303.11,-69.8697 294.874,-60.7126\"/>\n",
       "<polygon fill=\"black\" stroke=\"black\" points=\"297.439,-58.331 288.149,-53.2367 292.235,-63.0123 297.439,-58.331\"/>\n",
       "</g>\n",
       "<!-- 7 -->\n",
       "<g id=\"node8\" class=\"node\"><title>7</title>\n",
       "<polygon fill=\"none\" stroke=\"black\" points=\"425.5,-53 326.5,-53 326.5,-0 425.5,-0 425.5,-53\"/>\n",
       "<text text-anchor=\"middle\" x=\"376\" y=\"-37.8\" font-family=\"Times,serif\" font-size=\"14.00\">mse = 19.072</text>\n",
       "<text text-anchor=\"middle\" x=\"376\" y=\"-22.8\" font-family=\"Times,serif\" font-size=\"14.00\">samples = 23</text>\n",
       "<text text-anchor=\"middle\" x=\"376\" y=\"-7.8\" font-family=\"Times,serif\" font-size=\"14.00\">value = 46.117</text>\n",
       "</g>\n",
       "<!-- 5&#45;&gt;7 -->\n",
       "<g id=\"edge7\" class=\"edge\"><title>5&#45;&gt;7</title>\n",
       "<path fill=\"none\" stroke=\"black\" d=\"M359.094,-88.9485C361.409,-80.5323 363.907,-71.4536 366.254,-62.9243\"/>\n",
       "<polygon fill=\"black\" stroke=\"black\" points=\"369.641,-63.8069 368.919,-53.2367 362.892,-61.9499 369.641,-63.8069\"/>\n",
       "</g>\n",
       "<!-- 9 -->\n",
       "<g id=\"node10\" class=\"node\"><title>9</title>\n",
       "<polygon fill=\"none\" stroke=\"black\" points=\"568.5,-157 469.5,-157 469.5,-89 568.5,-89 568.5,-157\"/>\n",
       "<text text-anchor=\"middle\" x=\"519\" y=\"-141.8\" font-family=\"Times,serif\" font-size=\"14.00\">X[12] &lt;= 14.4</text>\n",
       "<text text-anchor=\"middle\" x=\"519\" y=\"-126.8\" font-family=\"Times,serif\" font-size=\"14.00\">mse = 13.202</text>\n",
       "<text text-anchor=\"middle\" x=\"519\" y=\"-111.8\" font-family=\"Times,serif\" font-size=\"14.00\">samples = 168</text>\n",
       "<text text-anchor=\"middle\" x=\"519\" y=\"-96.8\" font-family=\"Times,serif\" font-size=\"14.00\">value = 19.227</text>\n",
       "</g>\n",
       "<!-- 8&#45;&gt;9 -->\n",
       "<g id=\"edge9\" class=\"edge\"><title>8&#45;&gt;9</title>\n",
       "<path fill=\"none\" stroke=\"black\" d=\"M519,-192.884C519,-184.778 519,-175.982 519,-167.472\"/>\n",
       "<polygon fill=\"black\" stroke=\"black\" points=\"522.5,-167.299 519,-157.299 515.5,-167.299 522.5,-167.299\"/>\n",
       "</g>\n",
       "<!-- 12 -->\n",
       "<g id=\"node13\" class=\"node\"><title>12</title>\n",
       "<polygon fill=\"none\" stroke=\"black\" points=\"779,-157 675,-157 675,-89 779,-89 779,-157\"/>\n",
       "<text text-anchor=\"middle\" x=\"727\" y=\"-141.8\" font-family=\"Times,serif\" font-size=\"14.00\">X[12] &lt;= 19.85</text>\n",
       "<text text-anchor=\"middle\" x=\"727\" y=\"-126.8\" font-family=\"Times,serif\" font-size=\"14.00\">mse = 16.058</text>\n",
       "<text text-anchor=\"middle\" x=\"727\" y=\"-111.8\" font-family=\"Times,serif\" font-size=\"14.00\">samples = 69</text>\n",
       "<text text-anchor=\"middle\" x=\"727\" y=\"-96.8\" font-family=\"Times,serif\" font-size=\"14.00\">value = 12.761</text>\n",
       "</g>\n",
       "<!-- 8&#45;&gt;12 -->\n",
       "<g id=\"edge12\" class=\"edge\"><title>8&#45;&gt;12</title>\n",
       "<path fill=\"none\" stroke=\"black\" d=\"M568.557,-201.698C597.757,-187.379 634.932,-169.149 665.934,-153.946\"/>\n",
       "<polygon fill=\"black\" stroke=\"black\" points=\"667.483,-157.085 674.92,-149.539 664.4,-150.8 667.483,-157.085\"/>\n",
       "</g>\n",
       "<!-- 10 -->\n",
       "<g id=\"node11\" class=\"node\"><title>10</title>\n",
       "<polygon fill=\"none\" stroke=\"black\" points=\"542.5,-53 443.5,-53 443.5,-0 542.5,-0 542.5,-53\"/>\n",
       "<text text-anchor=\"middle\" x=\"493\" y=\"-37.8\" font-family=\"Times,serif\" font-size=\"14.00\">mse = 7.393</text>\n",
       "<text text-anchor=\"middle\" x=\"493\" y=\"-22.8\" font-family=\"Times,serif\" font-size=\"14.00\">samples = 88</text>\n",
       "<text text-anchor=\"middle\" x=\"493\" y=\"-7.8\" font-family=\"Times,serif\" font-size=\"14.00\">value = 21.068</text>\n",
       "</g>\n",
       "<!-- 9&#45;&gt;10 -->\n",
       "<g id=\"edge10\" class=\"edge\"><title>9&#45;&gt;10</title>\n",
       "<path fill=\"none\" stroke=\"black\" d=\"M509.906,-88.9485C507.591,-80.5323 505.093,-71.4536 502.746,-62.9243\"/>\n",
       "<polygon fill=\"black\" stroke=\"black\" points=\"506.108,-61.9499 500.081,-53.2367 499.359,-63.8069 506.108,-61.9499\"/>\n",
       "</g>\n",
       "<!-- 11 -->\n",
       "<g id=\"node12\" class=\"node\"><title>11</title>\n",
       "<polygon fill=\"none\" stroke=\"black\" points=\"659.5,-53 560.5,-53 560.5,-0 659.5,-0 659.5,-53\"/>\n",
       "<text text-anchor=\"middle\" x=\"610\" y=\"-37.8\" font-family=\"Times,serif\" font-size=\"14.00\">mse = 11.76</text>\n",
       "<text text-anchor=\"middle\" x=\"610\" y=\"-22.8\" font-family=\"Times,serif\" font-size=\"14.00\">samples = 80</text>\n",
       "<text text-anchor=\"middle\" x=\"610\" y=\"-7.8\" font-family=\"Times,serif\" font-size=\"14.00\">value = 17.201</text>\n",
       "</g>\n",
       "<!-- 9&#45;&gt;11 -->\n",
       "<g id=\"edge11\" class=\"edge\"><title>9&#45;&gt;11</title>\n",
       "<path fill=\"none\" stroke=\"black\" d=\"M550.827,-88.9485C559.637,-79.8005 569.2,-69.8697 578.018,-60.7126\"/>\n",
       "<polygon fill=\"black\" stroke=\"black\" points=\"580.801,-62.8677 585.217,-53.2367 575.759,-58.0122 580.801,-62.8677\"/>\n",
       "</g>\n",
       "<!-- 13 -->\n",
       "<g id=\"node14\" class=\"node\"><title>13</title>\n",
       "<polygon fill=\"none\" stroke=\"black\" points=\"776.5,-53 677.5,-53 677.5,-0 776.5,-0 776.5,-53\"/>\n",
       "<text text-anchor=\"middle\" x=\"727\" y=\"-37.8\" font-family=\"Times,serif\" font-size=\"14.00\">mse = 13.497</text>\n",
       "<text text-anchor=\"middle\" x=\"727\" y=\"-22.8\" font-family=\"Times,serif\" font-size=\"14.00\">samples = 33</text>\n",
       "<text text-anchor=\"middle\" x=\"727\" y=\"-7.8\" font-family=\"Times,serif\" font-size=\"14.00\">value = 15.036</text>\n",
       "</g>\n",
       "<!-- 12&#45;&gt;13 -->\n",
       "<g id=\"edge13\" class=\"edge\"><title>12&#45;&gt;13</title>\n",
       "<path fill=\"none\" stroke=\"black\" d=\"M727,-88.9485C727,-80.7153 727,-71.848 727,-63.4814\"/>\n",
       "<polygon fill=\"black\" stroke=\"black\" points=\"730.5,-63.2367 727,-53.2367 723.5,-63.2367 730.5,-63.2367\"/>\n",
       "</g>\n",
       "<!-- 14 -->\n",
       "<g id=\"node15\" class=\"node\"><title>14</title>\n",
       "<polygon fill=\"none\" stroke=\"black\" points=\"893.5,-53 794.5,-53 794.5,-0 893.5,-0 893.5,-53\"/>\n",
       "<text text-anchor=\"middle\" x=\"844\" y=\"-37.8\" font-family=\"Times,serif\" font-size=\"14.00\">mse = 9.309</text>\n",
       "<text text-anchor=\"middle\" x=\"844\" y=\"-22.8\" font-family=\"Times,serif\" font-size=\"14.00\">samples = 36</text>\n",
       "<text text-anchor=\"middle\" x=\"844\" y=\"-7.8\" font-family=\"Times,serif\" font-size=\"14.00\">value = 10.675</text>\n",
       "</g>\n",
       "<!-- 12&#45;&gt;14 -->\n",
       "<g id=\"edge14\" class=\"edge\"><title>12&#45;&gt;14</title>\n",
       "<path fill=\"none\" stroke=\"black\" d=\"M767.921,-88.9485C779.7,-79.4346 792.527,-69.074 804.235,-59.6175\"/>\n",
       "<polygon fill=\"black\" stroke=\"black\" points=\"806.555,-62.2429 812.136,-53.2367 802.157,-56.7973 806.555,-62.2429\"/>\n",
       "</g>\n",
       "</g>\n",
       "</svg>\n"
      ],
      "text/plain": [
       "<graphviz.files.Source at 0x7f717b9683d0>"
      ]
     },
     "metadata": {},
     "output_type": "display_data"
    }
   ],
   "source": [
    "from sklearn.tree import export_graphviz\r\n",
    "### 可视化决策树\r\n",
    "export_graphviz(dt_reg,out_file=\"my_boston_tree.dot\")\r\n",
    "import graphviz\r\n",
    "with open(\"my_boston_tree.dot\") as f:\r\n",
    "    dot_graph = f.read()\r\n",
    "display(graphviz.Source(dot_graph))"
   ]
  },
  {
   "cell_type": "code",
   "execution_count": null,
   "metadata": {
    "collapsed": false
   },
   "outputs": [],
   "source": []
  }
 ],
 "metadata": {
  "kernelspec": {
   "display_name": "Python 3",
   "language": "python",
   "name": "py35-paddle1.2.0"
  },
  "language_info": {
   "codemirror_mode": {
    "name": "ipython",
    "version": 3
   },
   "file_extension": ".py",
   "mimetype": "text/x-python",
   "name": "python",
   "nbconvert_exporter": "python",
   "pygments_lexer": "ipython3",
   "version": "3.7.4"
  }
 },
 "nbformat": 4,
 "nbformat_minor": 1
}
